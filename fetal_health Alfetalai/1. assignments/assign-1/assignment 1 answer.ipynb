{
 "cells": [
  {
   "cell_type": "markdown",
   "id": "dcd17c29",
   "metadata": {},
   "source": [
    "# Task1-Create a pandas dataframe (DataFrame name as 'df') with numpy random values (4 features and 4 observation)"
   ]
  },
  {
   "cell_type": "code",
   "execution_count": 7,
   "id": "53a7199a",
   "metadata": {},
   "outputs": [
    {
     "data": {
      "text/plain": [
       "array([[ 0.04964308, -0.4143248 , -1.10697299,  0.4914573 ],\n",
       "       [-1.04762167,  0.38562674, -0.34820383,  0.27015485],\n",
       "       [ 0.25374555,  0.39545661,  0.75910516, -0.59024646],\n",
       "       [ 0.17520433, -0.49724463,  1.78669112, -0.11356443]])"
      ]
     },
     "execution_count": 7,
     "metadata": {},
     "output_type": "execute_result"
    }
   ],
   "source": [
    "import numpy as np\n",
    "import pandas as pd\n",
    "\n",
    "random_data = np.random.randn(4, 4)\n",
    "\n",
    "\n",
    "random_data"
   ]
  },
  {
   "cell_type": "markdown",
   "id": "2cb1771d",
   "metadata": {},
   "source": [
    "# Task - 2 Rename the task - 1 'df' dataframe column names to 'Random value 1', 'Random value 2', 'Random value 3' & 'Random value 4'\n"
   ]
  },
  {
   "cell_type": "code",
   "execution_count": 9,
   "id": "0724d653",
   "metadata": {},
   "outputs": [
    {
     "data": {
      "text/html": [
       "<div>\n",
       "<style scoped>\n",
       "    .dataframe tbody tr th:only-of-type {\n",
       "        vertical-align: middle;\n",
       "    }\n",
       "\n",
       "    .dataframe tbody tr th {\n",
       "        vertical-align: top;\n",
       "    }\n",
       "\n",
       "    .dataframe thead th {\n",
       "        text-align: right;\n",
       "    }\n",
       "</style>\n",
       "<table border=\"1\" class=\"dataframe\">\n",
       "  <thead>\n",
       "    <tr style=\"text-align: right;\">\n",
       "      <th></th>\n",
       "      <th>Random value 1</th>\n",
       "      <th>Random value 2</th>\n",
       "      <th>Random value 3</th>\n",
       "      <th>Random value 4</th>\n",
       "    </tr>\n",
       "  </thead>\n",
       "  <tbody>\n",
       "    <tr>\n",
       "      <th>0</th>\n",
       "      <td>0.049643</td>\n",
       "      <td>-0.414325</td>\n",
       "      <td>-1.106973</td>\n",
       "      <td>0.491457</td>\n",
       "    </tr>\n",
       "    <tr>\n",
       "      <th>1</th>\n",
       "      <td>-1.047622</td>\n",
       "      <td>0.385627</td>\n",
       "      <td>-0.348204</td>\n",
       "      <td>0.270155</td>\n",
       "    </tr>\n",
       "    <tr>\n",
       "      <th>2</th>\n",
       "      <td>0.253746</td>\n",
       "      <td>0.395457</td>\n",
       "      <td>0.759105</td>\n",
       "      <td>-0.590246</td>\n",
       "    </tr>\n",
       "    <tr>\n",
       "      <th>3</th>\n",
       "      <td>0.175204</td>\n",
       "      <td>-0.497245</td>\n",
       "      <td>1.786691</td>\n",
       "      <td>-0.113564</td>\n",
       "    </tr>\n",
       "  </tbody>\n",
       "</table>\n",
       "</div>"
      ],
      "text/plain": [
       "   Random value 1  Random value 2  Random value 3  Random value 4\n",
       "0        0.049643       -0.414325       -1.106973        0.491457\n",
       "1       -1.047622        0.385627       -0.348204        0.270155\n",
       "2        0.253746        0.395457        0.759105       -0.590246\n",
       "3        0.175204       -0.497245        1.786691       -0.113564"
      ]
     },
     "execution_count": 9,
     "metadata": {},
     "output_type": "execute_result"
    }
   ],
   "source": [
    "df = pd.DataFrame(random_data, columns=['Random value 1', 'Random value 2', 'Random value 3', 'Random value 4'])\n",
    "df"
   ]
  },
  {
   "cell_type": "markdown",
   "id": "dda30a05",
   "metadata": {},
   "source": [
    "# Task - 3 Find the descriptive statistics of the 'df' dataframe."
   ]
  },
  {
   "cell_type": "code",
   "execution_count": 10,
   "id": "f9a29087",
   "metadata": {},
   "outputs": [
    {
     "data": {
      "text/html": [
       "<div>\n",
       "<style scoped>\n",
       "    .dataframe tbody tr th:only-of-type {\n",
       "        vertical-align: middle;\n",
       "    }\n",
       "\n",
       "    .dataframe tbody tr th {\n",
       "        vertical-align: top;\n",
       "    }\n",
       "\n",
       "    .dataframe thead th {\n",
       "        text-align: right;\n",
       "    }\n",
       "</style>\n",
       "<table border=\"1\" class=\"dataframe\">\n",
       "  <thead>\n",
       "    <tr style=\"text-align: right;\">\n",
       "      <th></th>\n",
       "      <th>Random value 1</th>\n",
       "      <th>Random value 2</th>\n",
       "      <th>Random value 3</th>\n",
       "      <th>Random value 4</th>\n",
       "    </tr>\n",
       "  </thead>\n",
       "  <tbody>\n",
       "    <tr>\n",
       "      <th>count</th>\n",
       "      <td>4.000000</td>\n",
       "      <td>4.000000</td>\n",
       "      <td>4.000000</td>\n",
       "      <td>4.000000</td>\n",
       "    </tr>\n",
       "    <tr>\n",
       "      <th>mean</th>\n",
       "      <td>-0.142257</td>\n",
       "      <td>-0.032622</td>\n",
       "      <td>0.272655</td>\n",
       "      <td>0.014450</td>\n",
       "    </tr>\n",
       "    <tr>\n",
       "      <th>std</th>\n",
       "      <td>0.609401</td>\n",
       "      <td>0.489814</td>\n",
       "      <td>1.267251</td>\n",
       "      <td>0.474330</td>\n",
       "    </tr>\n",
       "    <tr>\n",
       "      <th>min</th>\n",
       "      <td>-1.047622</td>\n",
       "      <td>-0.497245</td>\n",
       "      <td>-1.106973</td>\n",
       "      <td>-0.590246</td>\n",
       "    </tr>\n",
       "    <tr>\n",
       "      <th>25%</th>\n",
       "      <td>-0.224673</td>\n",
       "      <td>-0.435055</td>\n",
       "      <td>-0.537896</td>\n",
       "      <td>-0.232735</td>\n",
       "    </tr>\n",
       "    <tr>\n",
       "      <th>50%</th>\n",
       "      <td>0.112424</td>\n",
       "      <td>-0.014349</td>\n",
       "      <td>0.205451</td>\n",
       "      <td>0.078295</td>\n",
       "    </tr>\n",
       "    <tr>\n",
       "      <th>75%</th>\n",
       "      <td>0.194840</td>\n",
       "      <td>0.388084</td>\n",
       "      <td>1.016002</td>\n",
       "      <td>0.325480</td>\n",
       "    </tr>\n",
       "    <tr>\n",
       "      <th>max</th>\n",
       "      <td>0.253746</td>\n",
       "      <td>0.395457</td>\n",
       "      <td>1.786691</td>\n",
       "      <td>0.491457</td>\n",
       "    </tr>\n",
       "  </tbody>\n",
       "</table>\n",
       "</div>"
      ],
      "text/plain": [
       "       Random value 1  Random value 2  Random value 3  Random value 4\n",
       "count        4.000000        4.000000        4.000000        4.000000\n",
       "mean        -0.142257       -0.032622        0.272655        0.014450\n",
       "std          0.609401        0.489814        1.267251        0.474330\n",
       "min         -1.047622       -0.497245       -1.106973       -0.590246\n",
       "25%         -0.224673       -0.435055       -0.537896       -0.232735\n",
       "50%          0.112424       -0.014349        0.205451        0.078295\n",
       "75%          0.194840        0.388084        1.016002        0.325480\n",
       "max          0.253746        0.395457        1.786691        0.491457"
      ]
     },
     "execution_count": 10,
     "metadata": {},
     "output_type": "execute_result"
    }
   ],
   "source": [
    "ds=df.describe()\n",
    "ds"
   ]
  },
  {
   "cell_type": "markdown",
   "id": "221a537f",
   "metadata": {},
   "source": [
    "# Task - 4 Check for the null values in 'df' and find the data type of the columns."
   ]
  },
  {
   "cell_type": "code",
   "execution_count": 12,
   "id": "3c7253e0",
   "metadata": {},
   "outputs": [
    {
     "data": {
      "text/plain": [
       "Random value 1    0\n",
       "Random value 2    0\n",
       "Random value 3    0\n",
       "Random value 4    0\n",
       "dtype: int64"
      ]
     },
     "execution_count": 12,
     "metadata": {},
     "output_type": "execute_result"
    }
   ],
   "source": [
    "nullvalues=df.isnull().sum()\n",
    "nullvalues"
   ]
  },
  {
   "cell_type": "markdown",
   "id": "be12f518",
   "metadata": {},
   "source": [
    "# Task - 5 Display the 'Random value 2' & 'Random value 3' columns with location method and index location method."
   ]
  },
  {
   "cell_type": "code",
   "execution_count": 13,
   "id": "516355b9",
   "metadata": {},
   "outputs": [
    {
     "data": {
      "text/html": [
       "<div>\n",
       "<style scoped>\n",
       "    .dataframe tbody tr th:only-of-type {\n",
       "        vertical-align: middle;\n",
       "    }\n",
       "\n",
       "    .dataframe tbody tr th {\n",
       "        vertical-align: top;\n",
       "    }\n",
       "\n",
       "    .dataframe thead th {\n",
       "        text-align: right;\n",
       "    }\n",
       "</style>\n",
       "<table border=\"1\" class=\"dataframe\">\n",
       "  <thead>\n",
       "    <tr style=\"text-align: right;\">\n",
       "      <th></th>\n",
       "      <th>Random value 2</th>\n",
       "      <th>Random value 3</th>\n",
       "    </tr>\n",
       "  </thead>\n",
       "  <tbody>\n",
       "    <tr>\n",
       "      <th>0</th>\n",
       "      <td>-0.414325</td>\n",
       "      <td>-1.106973</td>\n",
       "    </tr>\n",
       "    <tr>\n",
       "      <th>1</th>\n",
       "      <td>0.385627</td>\n",
       "      <td>-0.348204</td>\n",
       "    </tr>\n",
       "    <tr>\n",
       "      <th>2</th>\n",
       "      <td>0.395457</td>\n",
       "      <td>0.759105</td>\n",
       "    </tr>\n",
       "    <tr>\n",
       "      <th>3</th>\n",
       "      <td>-0.497245</td>\n",
       "      <td>1.786691</td>\n",
       "    </tr>\n",
       "  </tbody>\n",
       "</table>\n",
       "</div>"
      ],
      "text/plain": [
       "   Random value 2  Random value 3\n",
       "0       -0.414325       -1.106973\n",
       "1        0.385627       -0.348204\n",
       "2        0.395457        0.759105\n",
       "3       -0.497245        1.786691"
      ]
     },
     "execution_count": 13,
     "metadata": {},
     "output_type": "execute_result"
    }
   ],
   "source": [
    "new_values=df.iloc[:, [1, 2]]\n",
    "new_values"
   ]
  }
 ],
 "metadata": {
  "kernelspec": {
   "display_name": "Python 3 (ipykernel)",
   "language": "python",
   "name": "python3"
  },
  "language_info": {
   "codemirror_mode": {
    "name": "ipython",
    "version": 3
   },
   "file_extension": ".py",
   "mimetype": "text/x-python",
   "name": "python",
   "nbconvert_exporter": "python",
   "pygments_lexer": "ipython3",
   "version": "3.9.12"
  }
 },
 "nbformat": 4,
 "nbformat_minor": 5
}
